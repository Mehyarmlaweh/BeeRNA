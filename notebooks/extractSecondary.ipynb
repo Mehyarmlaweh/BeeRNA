{
 "cells": [
  {
   "cell_type": "code",
   "execution_count": 3,
   "metadata": {},
   "outputs": [],
   "source": [
    "from Bio import PDB\n",
    "import numpy as np\n",
    "import os"
   ]
  },
  {
   "cell_type": "markdown",
   "metadata": {},
   "source": [
    "## 2d Seq from rnasolo dataset"
   ]
  },
  {
   "cell_type": "code",
   "execution_count": 2,
   "metadata": {},
   "outputs": [],
   "source": [
    "def extract_rna_secondary_structure(pdb_file):\n",
    "    \"\"\"Extracts secondary structure information from an RNA PDB file.\"\"\"\n",
    "    parser = PDB.PDBParser(QUIET=True)\n",
    "    structure = parser.get_structure(\"RNA\", pdb_file)\n",
    "    residues = []\n",
    "    for model in structure:\n",
    "        for chain in model:\n",
    "            for residue in chain:\n",
    "                # Check if it's an RNA nucleotide (not amino acid)\n",
    "                if not PDB.is_aa(residue, standard=True):  \n",
    "                    residues.append(residue)\n",
    "    sequence = \"\".join([residue.get_resname().strip() for residue in residues])\n",
    "    \n",
    "    print(f\"Extracted RNA Sequence from {pdb_file}:\")\n",
    "    print(sequence)\n",
    "    return sequence"
   ]
  },
  {
   "cell_type": "code",
   "execution_count": 3,
   "metadata": {},
   "outputs": [
    {
     "name": "stdout",
     "output_type": "stream",
     "text": [
      "Extracted RNA Sequence from rnasolo_dataset\\1A4D_1_A-B.pdb:\n",
      "GGCCGAUGGUAGUGUGGGGUCUCCCCAUGCGAGAGUAGGCC\n"
     ]
    }
   ],
   "source": [
    "pdb_folder = \"rnasolo_dataset\"  \n",
    "\n",
    "for pdb_file in os.listdir(pdb_folder):\n",
    "    if pdb_file.endswith(\".pdb\"):\n",
    "        pdb_path = os.path.join(pdb_folder, pdb_file)\n",
    "        extract_rna_secondary_structure(pdb_path)\n",
    "        break #limit one pdb file for testing"
   ]
  },
  {
   "cell_type": "markdown",
   "metadata": {},
   "source": [
    "## 3d reference structure from rnasolo"
   ]
  },
  {
   "cell_type": "code",
   "execution_count": 4,
   "metadata": {},
   "outputs": [],
   "source": [
    "def extract_reference_structure(pdb_file: str) -> np.ndarray:\n",
    "    \"\"\"\n",
    "    Extracts the reference 3D coordinates for an RNA structure from a PDB file.\n",
    "    The function uses the P atom as the representative coordinate for each nucleotide.\n",
    "    If the P atom is missing, it falls back to the C4' atom.\n",
    "    \n",
    "    Parameters:\n",
    "        pdb_file (str): Path to the PDB file.\n",
    "        \n",
    "    Returns:\n",
    "        np.ndarray: An array of shape (N, 3) where N is the number of RNA residues.\n",
    "    \"\"\"\n",
    "    parser = PDB.PDBParser(QUIET=True)\n",
    "    structure = parser.get_structure(\"RNA\", pdb_file)\n",
    "    coordinates = []\n",
    "    \n",
    "    for model in structure:\n",
    "        for chain in model:\n",
    "            for residue in chain:\n",
    "                # Check if the residue is a standard RNA nucleotide\n",
    "                if residue.get_resname() in [\"A\", \"U\", \"G\", \"C\"]:\n",
    "                    if \"P\" in residue:\n",
    "                        coordinates.append(residue[\"P\"].get_coord())\n",
    "                    elif \"C4'\" in residue:  # fallback if P atom is not available\n",
    "                        coordinates.append(residue[\"C4'\"].get_coord())\n",
    "                    else:\n",
    "                        print(f\"Warning: Neither 'P' nor 'C4'' found in residue {residue.get_resname()}. Skipping.\")\n",
    "    \n",
    "    if not coordinates:\n",
    "        raise ValueError(\"No valid RNA nucleotide coordinates were extracted from the PDB file.\")\n",
    "    \n",
    "    coordinates = np.array(coordinates)\n",
    "    print(f\"Extracted reference structure coordinates from {pdb_file}: shape {coordinates.shape}\")\n",
    "    return coordinates\n"
   ]
  },
  {
   "cell_type": "code",
   "execution_count": null,
   "metadata": {},
   "outputs": [
    {
     "name": "stdout",
     "output_type": "stream",
     "text": [
      "Extracted reference structure coordinates from rnasolo_dataset/1A4D_1_A-B.pdb: shape (41, 3)\n",
      "[[ 8.5160e+01 -2.7882e+01 -1.6070e+00]\n",
      " [ 8.1858e+01 -2.6285e+01 -2.2800e-01]\n",
      " [ 7.8960e+01 -2.4568e+01  3.0330e+00]\n",
      " [ 7.8229e+01 -1.9660e+01  7.2980e+00]\n",
      " [ 7.9238e+01 -1.5308e+01  1.0169e+01]\n",
      " [ 8.3165e+01 -1.0617e+01  7.7120e+00]\n",
      " [ 8.6866e+01 -5.6910e+00  9.7280e+00]\n",
      " [ 9.0108e+01 -2.2710e+00  7.5020e+00]\n",
      " [ 9.1317e+01  4.8000e-02  2.1510e+00]\n",
      " [ 8.7869e+01 -4.8800e-01 -3.9230e+00]\n",
      " [ 8.3222e+01 -1.0890e+00 -7.3280e+00]\n",
      " [ 7.6679e+01 -4.4000e-01 -7.3050e+00]\n",
      " [ 7.3166e+01  3.1090e+00 -5.2270e+00]\n",
      " [ 7.2424e+01  9.3790e+00 -3.1710e+00]\n",
      " [ 7.4137e+01  1.4678e+01 -4.2900e-01]\n",
      " [ 7.8093e+01  1.9454e+01  7.7000e-02]\n",
      " [ 8.2739e+01  2.3089e+01 -2.1230e+00]\n",
      " [ 8.6377e+01  2.5023e+01 -7.1760e+00]\n",
      " [ 8.8125e+01  2.4882e+01 -1.3290e+01]\n",
      " [ 8.5758e+01  2.7655e+01 -1.7334e+01]\n",
      " [ 7.9707e+01  2.9885e+01 -1.6187e+01]\n",
      " [ 7.4319e+01  2.8092e+01 -1.5503e+01]\n",
      " [ 6.9224e+01  2.3390e+01 -1.6497e+01]\n",
      " [ 7.2589e+01  1.8532e+01 -1.8042e+01]\n",
      " [ 7.7593e+01  1.4640e+01 -1.7442e+01]\n",
      " [ 8.3092e+01  1.2303e+01 -1.5373e+01]\n",
      " [ 8.8264e+01  1.1663e+01 -1.1986e+01]\n",
      " [ 9.0163e+01  1.0961e+01 -6.1410e+00]\n",
      " [ 8.8913e+01  9.3330e+00 -2.6400e-01]\n",
      " [ 8.6099e+01  8.5350e+00  5.1110e+00]\n",
      " [ 8.2088e+01  4.8940e+00  7.8480e+00]\n",
      " [ 8.1770e+01 -6.8300e-01  6.7600e+00]\n",
      " [ 7.9374e+01 -5.5890e+00  7.7830e+00]\n",
      " [ 7.8368e+01 -1.1867e+01  5.5820e+00]\n",
      " [ 8.0619e+01 -1.6252e+01  2.5880e+00]\n",
      " [ 8.6906e+01 -1.7794e+01  5.1100e-01]\n",
      " [ 9.1800e+01 -1.8340e+01  1.3050e+00]\n",
      " [ 9.6035e+01 -1.8701e+01  5.3010e+00]\n",
      " [ 9.4545e+01 -2.0767e+01  1.1334e+01]\n",
      " [ 9.2555e+01 -2.3761e+01  1.4386e+01]\n",
      " [ 8.9855e+01 -2.9645e+01  1.4411e+01]]\n"
     ]
    }
   ],
   "source": [
    "pdb_file = \"rnasolo_dataset/1A4D_1_A-B.pdb\"\n",
    "ref_structure = extract_reference_structure(pdb_file)\n",
    "print(ref_structure)"
   ]
  },
  {
   "cell_type": "markdown",
   "metadata": {},
   "source": []
  }
 ],
 "metadata": {
  "kernelspec": {
   "display_name": "rna",
   "language": "python",
   "name": "python3"
  },
  "language_info": {
   "codemirror_mode": {
    "name": "ipython",
    "version": 3
   },
   "file_extension": ".py",
   "mimetype": "text/x-python",
   "name": "python",
   "nbconvert_exporter": "python",
   "pygments_lexer": "ipython3",
   "version": "3.11.11"
  }
 },
 "nbformat": 4,
 "nbformat_minor": 2
}
